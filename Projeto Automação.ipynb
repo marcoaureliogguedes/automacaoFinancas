{
 "cells": [
  {
   "cell_type": "markdown",
   "id": "1ec79cf2",
   "metadata": {},
   "source": [
    "## Projeto de Análise de Dados e Automação"
   ]
  },
  {
   "cell_type": "markdown",
   "id": "245ec38d",
   "metadata": {},
   "source": [
    "### Importando Bibliotecas"
   ]
  },
  {
   "cell_type": "code",
   "execution_count": null,
   "id": "6f1ec475",
   "metadata": {},
   "outputs": [],
   "source": [
    "import pandas as pd\n",
    "import numpy as np\n",
    "import yfinance as yf\n",
    "import plotly.express as px\n",
    "import matplotlib.pyplot as plt\n",
    "import pandas_datareader.data as pdr\n",
    "from cycler import cycler\n",
    "from datetime import datetime, timedelta\n",
    "\n",
    "yf.pdr_override()"
   ]
  },
  {
   "cell_type": "markdown",
   "id": "393b1948",
   "metadata": {},
   "source": [
    "### Analisando o Índice IBOVESPA"
   ]
  },
  {
   "cell_type": "markdown",
   "id": "dd9880e8",
   "metadata": {},
   "source": [
    "- O índice IBOVESPA é o mais importante indicador do desempenho médio das cotações negociadas na bolsa de valores B3.<br>\n",
    "- Ele é formado pelos ativos (ações) com maior volume negociado nos últimos meses."
   ]
  },
  {
   "cell_type": "markdown",
   "id": "ff54a498",
   "metadata": {},
   "source": [
    "### Período"
   ]
  },
  {
   "cell_type": "code",
   "execution_count": null,
   "id": "5c63128e",
   "metadata": {},
   "outputs": [],
   "source": [
    "dias = int(input('Digite o período em número de dias. '))"
   ]
  },
  {
   "cell_type": "code",
   "execution_count": null,
   "id": "ac760163",
   "metadata": {},
   "outputs": [],
   "source": [
    "data_inicial = datetime.now() - timedelta(days=dias)\n",
    "data_final = datetime.now()"
   ]
  },
  {
   "cell_type": "markdown",
   "id": "cca3a7a2",
   "metadata": {},
   "source": [
    "### Requisitando os Dados dos Ativos"
   ]
  },
  {
   "cell_type": "code",
   "execution_count": null,
   "id": "8a82cf9f",
   "metadata": {},
   "outputs": [],
   "source": [
    "# requisiçao\n",
    "df_ibov = pdr.get_data_yahoo('^BVSP', data_inicial, data_final)['Adj Close']\n",
    "df_ibov"
   ]
  },
  {
   "cell_type": "markdown",
   "id": "cfce45b3",
   "metadata": {},
   "source": [
    "### Calculando o Retorno"
   ]
  },
  {
   "cell_type": "code",
   "execution_count": null,
   "id": "e27c3b83",
   "metadata": {},
   "outputs": [],
   "source": [
    "# localizando o último e o primeiro preço\n",
    "retorno = df_ibov.iloc[-1] / df_ibov.iloc[0] - 1\n",
    "print('O retorno foi de: {:.2%}'.format(retorno))"
   ]
  },
  {
   "cell_type": "markdown",
   "id": "55caa95f",
   "metadata": {},
   "source": [
    "### Média Móvel"
   ]
  },
  {
   "cell_type": "markdown",
   "id": "98eea47a",
   "metadata": {},
   "source": [
    "- **Média Móvel** é um dos indicadores que são observados pelos analistas e investidores que atuam no mercado financeiro, serve para verificar tendências dentro de uma análise gráfica."
   ]
  },
  {
   "cell_type": "code",
   "execution_count": null,
   "id": "df702baa",
   "metadata": {},
   "outputs": [],
   "source": [
    "# Gráfico\n",
    "df_ibov.plot(label='IBOV', figsize=(15, 5), color='#091D40')\n",
    "\n",
    "# Verificando a janela do tempo\n",
    "media_movel = df_ibov.rolling(30).mean()\n",
    "\n",
    "# Gráfico\n",
    "media_movel.plot(label='MM30', color='#E28A7F')\n",
    "\n",
    "# Exibindo a legenda\n",
    "plt.legend()\n",
    "\n",
    "# Exibindo o gráfico\n",
    "plt.box(False)\n",
    "plt.xticks(rotation=0)\n",
    "plt.tick_params(axis='x', length=0)\n",
    "plt.tick_params(axis='y', length=0)\n",
    "plt.title('Análise do Índice IBOVESPA x Média Móvel', fontsize=15, fontweight='bold')\n",
    "plt.ylabel('Preços em (R$)')\n",
    "plt.show()"
   ]
  },
  {
   "cell_type": "code",
   "execution_count": null,
   "id": "48915af1",
   "metadata": {},
   "outputs": [],
   "source": [
    "# Estilo\n",
    "plt.style.use('dark_background')\n",
    "\n",
    "# Gráfico\n",
    "df_ibov.plot(label='IBOV', figsize=(15, 5))\n",
    "\n",
    "# Verificando a janela do tempo\n",
    "media_movel = df_ibov.rolling(30).mean()\n",
    "\n",
    "# Gráfico\n",
    "media_movel.plot(label='MM30')\n",
    "\n",
    "# Exibindo a legenda\n",
    "plt.legend()\n",
    "\n",
    "# Exibindo o gráfico\n",
    "plt.box(False)\n",
    "plt.xticks(rotation=0)\n",
    "plt.tick_params(axis='x', length=0)\n",
    "plt.tick_params(axis='y', length=0)\n",
    "plt.title('Análise do Índice IBOVESPA x Média Móvel', fontsize=15, fontweight='bold')\n",
    "plt.ylabel('Preços em (R$)')\n",
    "plt.show()"
   ]
  },
  {
   "cell_type": "code",
   "execution_count": null,
   "id": "279a2d66",
   "metadata": {},
   "outputs": [],
   "source": [
    "# Cotação Máxima\n",
    "cotacao_maxima = np.amax(df_ibov)\n",
    "print(f'A cotação máxima do índice IBOVESPA no período foi de: {cotacao_maxima:,.0f}')"
   ]
  },
  {
   "cell_type": "code",
   "execution_count": null,
   "id": "70b056d5",
   "metadata": {},
   "outputs": [],
   "source": [
    "# Cotação Mínima\n",
    "cotacao_minima = np.amin(df_ibov)\n",
    "print(f'A cotação mínima do índice IBOVESPA no período foi de: {cotacao_minima:,.0f}')"
   ]
  },
  {
   "cell_type": "code",
   "execution_count": null,
   "id": "95f6814d",
   "metadata": {},
   "outputs": [],
   "source": [
    "cotacao_atual = df_ibov.iloc[-1]\n",
    "print(f'A cotação atual do índice IBOVESPA é de: {cotacao_atual:,.0f}')"
   ]
  },
  {
   "cell_type": "markdown",
   "id": "a61be777",
   "metadata": {},
   "source": [
    "### Carregando os Dados da Carteira"
   ]
  },
  {
   "cell_type": "code",
   "execution_count": null,
   "id": "db5cdef8",
   "metadata": {},
   "outputs": [],
   "source": [
    "df_carteira = pd.read_excel('carteira.xlsx')\n",
    "df_carteira"
   ]
  },
  {
   "cell_type": "code",
   "execution_count": null,
   "id": "d28f7c9e",
   "metadata": {},
   "outputs": [],
   "source": [
    "dias = int(input('Digite o período em número de dias. '))"
   ]
  },
  {
   "cell_type": "code",
   "execution_count": null,
   "id": "0a02baa7",
   "metadata": {},
   "outputs": [],
   "source": [
    "data_inical = datetime.now() - timedelta(days=dias)\n",
    "data_final = datetime.now()\n",
    "\n",
    "# transformando a coluna Ticker em uma lista python\n",
    "lista_ativos = list(df_carteira['Ticker'].astype(str) + '.SA')\n",
    "\n",
    "# requisição\n",
    "df_cotacoes = pdr.get_data_yahoo(lista_ativos, data_inical, data_final)['Adj Close']\n",
    "df_cotacoes = round(df_cotacoes, 2)\n",
    "df_cotacoes"
   ]
  },
  {
   "cell_type": "markdown",
   "id": "80ca3e34",
   "metadata": {},
   "source": [
    "### Tratamento de Dados"
   ]
  },
  {
   "cell_type": "code",
   "execution_count": null,
   "id": "b9bbd459",
   "metadata": {},
   "outputs": [],
   "source": [
    "# trazendo informações do dataframe\n",
    "df_cotacoes.info()"
   ]
  },
  {
   "cell_type": "markdown",
   "id": "799b9535",
   "metadata": {},
   "source": [
    "- Os dados dentro do dataframe que aparecerem em branco serão tratados e preenchidos com os dados do dia anterior, porque para o caso especifico de preços de ações não seria coerente aplicar estatísticas como (moda ou média) dos valores analisados no perídodo."
   ]
  },
  {
   "cell_type": "code",
   "execution_count": null,
   "id": "8466b63a",
   "metadata": {},
   "outputs": [],
   "source": [
    "# preencehdo valores vázios\n",
    "df_cotacoes = df_cotacoes.ffill()"
   ]
  },
  {
   "cell_type": "code",
   "execution_count": null,
   "id": "7b6c5c6e",
   "metadata": {},
   "outputs": [],
   "source": [
    "df_cotacoes.info()"
   ]
  },
  {
   "cell_type": "markdown",
   "id": "eda2058d",
   "metadata": {},
   "source": [
    "### Normalizando os Dados"
   ]
  },
  {
   "cell_type": "markdown",
   "id": "7d4ef859",
   "metadata": {},
   "source": [
    "- Colocando os dados para incializarem a partir do mesmo valor (1) e estarão todos na mesma base, e se verificará que determinados ativos ou terão subido ou terão caido.<br>\n",
    "- Pegando o último valor de uma coluna e dividindo pelo primeiro valor da mesma coluna, os outros valores do range da coluna será a comparação entre eles e o valor inicial."
   ]
  },
  {
   "cell_type": "code",
   "execution_count": null,
   "id": "db0460b4",
   "metadata": {},
   "outputs": [],
   "source": [
    "# Criando um dataframe com os dados normalizados\n",
    "df_cotacoesNorm = df_cotacoes / df_cotacoes.iloc[0]"
   ]
  },
  {
   "cell_type": "markdown",
   "id": "c44bfb52",
   "metadata": {},
   "source": [
    "### Plotando Gráfico"
   ]
  },
  {
   "cell_type": "code",
   "execution_count": null,
   "id": "166aed61",
   "metadata": {},
   "outputs": [],
   "source": [
    "# Estilo\n",
    "plt.style.use('dark_background')\n",
    "\n",
    "df_cotacoesNorm.plot(figsize=(15, 5))\n",
    "plt.legend(loc='upper left')\n",
    "plt.xticks(rotation=0)\n",
    "plt.tick_params(axis='x', length=0)\n",
    "plt.tick_params(axis='y', length=0)\n",
    "plt.title('Carteira Normalizada', fontsize=15, fontweight='bold')\n",
    "plt.box(False)\n",
    "plt.show()"
   ]
  },
  {
   "cell_type": "markdown",
   "id": "2557e0b8",
   "metadata": {},
   "source": [
    "### Calculando o Retorno da Carteira"
   ]
  },
  {
   "cell_type": "markdown",
   "id": "5f56b916",
   "metadata": {},
   "source": [
    "**observação:** Para calcular o retorno da carteira não pode ser todo consolidado, porque precisamo calcular o retorno de cada ativo devido as cotações dos preços serem distintas.<br>\n",
    "- Pega o valor de cotação de cada ativo e multiplica pela quantidade de cotas de cada um dos ativos."
   ]
  },
  {
   "cell_type": "markdown",
   "id": "a6cda744",
   "metadata": {},
   "source": [
    "### Criando um Novo Dataframe de Valores Investidos"
   ]
  },
  {
   "cell_type": "code",
   "execution_count": null,
   "id": "818d977a",
   "metadata": {},
   "outputs": [],
   "source": [
    "# criando um dataframe vázio\n",
    "df_valorInvestido = pd.DataFrame()\n",
    "\n",
    "# percorrendo cada ativo do dataframe\n",
    "for ativo in df_carteira['Ticker']:\n",
    "    cotas = df_carteira.loc[df_carteira['Ticker'] == ativo, 'Cotas'].values[0]\n",
    "    # criando uma nova coluna com os valores de cada ativo\n",
    "    df_valorInvestido[ativo] = cotas * df_cotacoes[f'{ativo}.SA']\n",
    "    \n",
    "# criando uma nova coluna com o valor total\n",
    "df_valorInvestido['Total'] = df_valorInvestido.sum(axis=1)   # somando todos os valores das colunas\n",
    "\n",
    "df_valorInvestido = round(df_valorInvestido, 2)\n",
    "df_valorInvestido"
   ]
  },
  {
   "cell_type": "markdown",
   "id": "53818c24",
   "metadata": {},
   "source": [
    "### Comparando o Retorno da Carteira com o Índice do IBOVESPA"
   ]
  },
  {
   "cell_type": "markdown",
   "id": "d6a86110",
   "metadata": {},
   "source": [
    "#### Normalizando os dados da Carteira e os dados do IBOVESPA"
   ]
  },
  {
   "cell_type": "markdown",
   "id": "1efb4bf4",
   "metadata": {},
   "source": [
    "- Colocando os dados para incializarem a partir do mesmo valor (1) e estarão todos na mesma base, e se verificará que determinados ativos ou terão subido ou terão caido.<br>\n",
    "- Pegando o último valor de uma coluna e dividindo pelo primeiro valor da mesma coluna, os outros valores do range da coluna será a comparação entre eles e o valor inicial."
   ]
  },
  {
   "cell_type": "code",
   "execution_count": null,
   "id": "3d24be05",
   "metadata": {},
   "outputs": [],
   "source": [
    "# criando as duas tabelas normalizadas\n",
    "df_ibovNorm = df_ibov / df_ibov.iloc[0]"
   ]
  },
  {
   "cell_type": "code",
   "execution_count": null,
   "id": "71ee3e35",
   "metadata": {},
   "outputs": [],
   "source": [
    "# carteira normalizado\n",
    "df_valorInvestidonorm = df_valorInvestido / df_valorInvestido.iloc[0]"
   ]
  },
  {
   "cell_type": "code",
   "execution_count": null,
   "id": "2ef36536",
   "metadata": {},
   "outputs": [],
   "source": [
    "df_ibovNorm.head()"
   ]
  },
  {
   "cell_type": "markdown",
   "id": "6da763ec",
   "metadata": {},
   "source": [
    "### Plotando um Gráfico do Histórico"
   ]
  },
  {
   "cell_type": "code",
   "execution_count": null,
   "id": "e9757b1b",
   "metadata": {},
   "outputs": [],
   "source": [
    "# Estilo\n",
    "plt.style.use('dark_background')\n",
    "\n",
    "df_valorInvestidonorm['Total'].plot(figsize=(15, 5), label='Carteira')\n",
    "df_ibovNorm.plot(label='IBOV')\n",
    "\n",
    "plt.legend()\n",
    "plt.xticks(rotation=0)\n",
    "plt.tick_params(axis='x', length=0)\n",
    "plt.tick_params(axis='y', length=0)\n",
    "plt.title('Retorno da Carteira vs IBOVESPA', fontsize=15, fontweight='bold')\n",
    "plt.box(False)\n",
    "\n",
    "plt.show()"
   ]
  },
  {
   "cell_type": "markdown",
   "id": "4d2547b5",
   "metadata": {},
   "source": [
    "### Calculando o Retorno e a Correlação"
   ]
  },
  {
   "cell_type": "code",
   "execution_count": null,
   "id": "66b19179",
   "metadata": {},
   "outputs": [],
   "source": [
    "# retorno IBOVESPA\n",
    "retorno_ibov = df_ibovNorm[-1] -1 # o cálculo aqui foi feito direto porque a dataframe já está normalizado\n",
    "\n",
    "# retorno da Carteira\n",
    "retorno_carteira = df_valorInvestidonorm['Total'][-1] -1 \n",
    "\n",
    "# imprimindo o retorno\n",
    "print(f'O retorno do IBOV foi de: {retorno_ibov:.2%}')\n",
    "print(f'O retorno da Carteira de Investimentos foi de: {retorno_carteira:.2%}')"
   ]
  },
  {
   "cell_type": "code",
   "execution_count": null,
   "id": "15526b04",
   "metadata": {},
   "outputs": [],
   "source": [
    "# correlação\n",
    "correlacao = df_valorInvestido['Total'].corr(df_ibov)\n",
    "\n",
    "print(f'A correlação da Carteira de Investimentos e o IBOV foi de: {correlacao:.2%}')"
   ]
  },
  {
   "cell_type": "markdown",
   "id": "b4f88ef0",
   "metadata": {},
   "source": [
    "## Fim"
   ]
  }
 ],
 "metadata": {
  "kernelspec": {
   "display_name": "Python 3 (ipykernel)",
   "language": "python",
   "name": "python3"
  },
  "language_info": {
   "codemirror_mode": {
    "name": "ipython",
    "version": 3
   },
   "file_extension": ".py",
   "mimetype": "text/x-python",
   "name": "python",
   "nbconvert_exporter": "python",
   "pygments_lexer": "ipython3",
   "version": "3.11.4"
  }
 },
 "nbformat": 4,
 "nbformat_minor": 5
}
